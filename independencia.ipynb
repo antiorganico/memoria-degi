{
  "nbformat": 4,
  "nbformat_minor": 0,
  "metadata": {
    "colab": {
      "name": "independencia.ipynb",
      "provenance": [],
      "authorship_tag": "ABX9TyOIdmZ7VTZ61M1Pgf144ELh",
      "include_colab_link": true
    },
    "kernelspec": {
      "name": "python3",
      "display_name": "Python 3"
    },
    "language_info": {
      "name": "python"
    }
  },
  "cells": [
    {
      "cell_type": "markdown",
      "metadata": {
        "id": "view-in-github",
        "colab_type": "text"
      },
      "source": [
        "<a href=\"https://colab.research.google.com/github/antiorganico/memoria-degi/blob/main/independencia.ipynb\" target=\"_parent\"><img src=\"https://colab.research.google.com/assets/colab-badge.svg\" alt=\"Open In Colab\"/></a>"
      ]
    },
    {
      "cell_type": "code",
      "metadata": {
        "id": "GoKLWoghZr57"
      },
      "source": [
        "import pandas as pd"
      ],
      "execution_count": null,
      "outputs": []
    },
    {
      "cell_type": "code",
      "metadata": {
        "id": "OJ_m1P5jZwpg"
      },
      "source": [
        "df = pd.read_csv('https://raw.githubusercontent.com/MinCiencia/Datos-COVID19/master/output/producto74/paso_a_paso_std.csv')"
      ],
      "execution_count": null,
      "outputs": []
    },
    {
      "cell_type": "code",
      "metadata": {
        "id": "kBYa26-ZZ2b1"
      },
      "source": [
        "df_ind = df[df['comuna_residencia'] == 'Independencia']"
      ],
      "execution_count": null,
      "outputs": []
    },
    {
      "cell_type": "code",
      "metadata": {
        "colab": {
          "base_uri": "https://localhost:8080/",
          "height": 421
        },
        "id": "g_sAPmsXax-v",
        "outputId": "f0df1d56-b30c-40a6-aa10-5676237364dd"
      },
      "source": [
        "df_ind"
      ],
      "execution_count": null,
      "outputs": [
        {
          "output_type": "execute_result",
          "data": {
            "text/html": [
              "<div>\n",
              "<style scoped>\n",
              "    .dataframe tbody tr th:only-of-type {\n",
              "        vertical-align: middle;\n",
              "    }\n",
              "\n",
              "    .dataframe tbody tr th {\n",
              "        vertical-align: top;\n",
              "    }\n",
              "\n",
              "    .dataframe thead th {\n",
              "        text-align: right;\n",
              "    }\n",
              "</style>\n",
              "<table border=\"1\" class=\"dataframe\">\n",
              "  <thead>\n",
              "    <tr style=\"text-align: right;\">\n",
              "      <th></th>\n",
              "      <th>codigo_region</th>\n",
              "      <th>region_residencia</th>\n",
              "      <th>codigo_comuna</th>\n",
              "      <th>comuna_residencia</th>\n",
              "      <th>zona</th>\n",
              "      <th>Fecha</th>\n",
              "      <th>Paso</th>\n",
              "    </tr>\n",
              "  </thead>\n",
              "  <tbody>\n",
              "    <tr>\n",
              "      <th>100</th>\n",
              "      <td>13</td>\n",
              "      <td>Metropolitana</td>\n",
              "      <td>13108</td>\n",
              "      <td>Independencia</td>\n",
              "      <td>Total</td>\n",
              "      <td>2020-07-28</td>\n",
              "      <td>1</td>\n",
              "    </tr>\n",
              "    <tr>\n",
              "      <th>487</th>\n",
              "      <td>13</td>\n",
              "      <td>Metropolitana</td>\n",
              "      <td>13108</td>\n",
              "      <td>Independencia</td>\n",
              "      <td>Total</td>\n",
              "      <td>2020-07-29</td>\n",
              "      <td>1</td>\n",
              "    </tr>\n",
              "    <tr>\n",
              "      <th>874</th>\n",
              "      <td>13</td>\n",
              "      <td>Metropolitana</td>\n",
              "      <td>13108</td>\n",
              "      <td>Independencia</td>\n",
              "      <td>Total</td>\n",
              "      <td>2020-07-30</td>\n",
              "      <td>1</td>\n",
              "    </tr>\n",
              "    <tr>\n",
              "      <th>1261</th>\n",
              "      <td>13</td>\n",
              "      <td>Metropolitana</td>\n",
              "      <td>13108</td>\n",
              "      <td>Independencia</td>\n",
              "      <td>Total</td>\n",
              "      <td>2020-07-31</td>\n",
              "      <td>1</td>\n",
              "    </tr>\n",
              "    <tr>\n",
              "      <th>1648</th>\n",
              "      <td>13</td>\n",
              "      <td>Metropolitana</td>\n",
              "      <td>13108</td>\n",
              "      <td>Independencia</td>\n",
              "      <td>Total</td>\n",
              "      <td>2020-08-01</td>\n",
              "      <td>1</td>\n",
              "    </tr>\n",
              "    <tr>\n",
              "      <th>...</th>\n",
              "      <td>...</td>\n",
              "      <td>...</td>\n",
              "      <td>...</td>\n",
              "      <td>...</td>\n",
              "      <td>...</td>\n",
              "      <td>...</td>\n",
              "      <td>...</td>\n",
              "    </tr>\n",
              "    <tr>\n",
              "      <th>173476</th>\n",
              "      <td>13</td>\n",
              "      <td>Metropolitana</td>\n",
              "      <td>13108</td>\n",
              "      <td>Independencia</td>\n",
              "      <td>Total</td>\n",
              "      <td>2021-10-19</td>\n",
              "      <td>4</td>\n",
              "    </tr>\n",
              "    <tr>\n",
              "      <th>173863</th>\n",
              "      <td>13</td>\n",
              "      <td>Metropolitana</td>\n",
              "      <td>13108</td>\n",
              "      <td>Independencia</td>\n",
              "      <td>Total</td>\n",
              "      <td>2021-10-20</td>\n",
              "      <td>4</td>\n",
              "    </tr>\n",
              "    <tr>\n",
              "      <th>174250</th>\n",
              "      <td>13</td>\n",
              "      <td>Metropolitana</td>\n",
              "      <td>13108</td>\n",
              "      <td>Independencia</td>\n",
              "      <td>Total</td>\n",
              "      <td>2021-10-21</td>\n",
              "      <td>4</td>\n",
              "    </tr>\n",
              "    <tr>\n",
              "      <th>174637</th>\n",
              "      <td>13</td>\n",
              "      <td>Metropolitana</td>\n",
              "      <td>13108</td>\n",
              "      <td>Independencia</td>\n",
              "      <td>Total</td>\n",
              "      <td>2021-10-22</td>\n",
              "      <td>4</td>\n",
              "    </tr>\n",
              "    <tr>\n",
              "      <th>175024</th>\n",
              "      <td>13</td>\n",
              "      <td>Metropolitana</td>\n",
              "      <td>13108</td>\n",
              "      <td>Independencia</td>\n",
              "      <td>Total</td>\n",
              "      <td>2021-10-23</td>\n",
              "      <td>4</td>\n",
              "    </tr>\n",
              "  </tbody>\n",
              "</table>\n",
              "<p>453 rows × 7 columns</p>\n",
              "</div>"
            ],
            "text/plain": [
              "        codigo_region region_residencia  codigo_comuna  ...   zona       Fecha Paso\n",
              "100                13     Metropolitana          13108  ...  Total  2020-07-28    1\n",
              "487                13     Metropolitana          13108  ...  Total  2020-07-29    1\n",
              "874                13     Metropolitana          13108  ...  Total  2020-07-30    1\n",
              "1261               13     Metropolitana          13108  ...  Total  2020-07-31    1\n",
              "1648               13     Metropolitana          13108  ...  Total  2020-08-01    1\n",
              "...               ...               ...            ...  ...    ...         ...  ...\n",
              "173476             13     Metropolitana          13108  ...  Total  2021-10-19    4\n",
              "173863             13     Metropolitana          13108  ...  Total  2021-10-20    4\n",
              "174250             13     Metropolitana          13108  ...  Total  2021-10-21    4\n",
              "174637             13     Metropolitana          13108  ...  Total  2021-10-22    4\n",
              "175024             13     Metropolitana          13108  ...  Total  2021-10-23    4\n",
              "\n",
              "[453 rows x 7 columns]"
            ]
          },
          "metadata": {},
          "execution_count": 4
        }
      ]
    },
    {
      "cell_type": "code",
      "metadata": {
        "id": "1Xa7U38RaGx6"
      },
      "source": [
        "df_ind2 = df_ind[['Fecha', 'Paso']]"
      ],
      "execution_count": null,
      "outputs": []
    },
    {
      "cell_type": "code",
      "metadata": {
        "id": "bwb8KCwxa7on"
      },
      "source": [
        "df_ind2 = df_ind2[df_ind2['Fecha'] > '2020-12-31']"
      ],
      "execution_count": null,
      "outputs": []
    },
    {
      "cell_type": "code",
      "metadata": {
        "colab": {
          "base_uri": "https://localhost:8080/",
          "height": 454
        },
        "id": "OId-V65jcwJ9",
        "outputId": "faf68962-a764-4031-fb27-460e1a1251ca"
      },
      "source": [
        "df_ind2.plot(x='Fecha', rot=75, figsize=(10,6), yticks=[1,2,3,4])"
      ],
      "execution_count": null,
      "outputs": [
        {
          "output_type": "execute_result",
          "data": {
            "text/plain": [
              "<matplotlib.axes._subplots.AxesSubplot at 0x7f45750e2510>"
            ]
          },
          "metadata": {},
          "execution_count": 12
        },
        {
          "output_type": "display_data",
          "data": {
            "image/png": "[encoded data removed]",
            "text/plain": [
              "<Figure size 720x432 with 1 Axes>"
            ]
          },
          "metadata": {
            "needs_background": "light"
          }
        }
      ]
    },
    {
      "cell_type": "code",
      "metadata": {
        "id": "115aUW5jeT1Y"
      },
      "source": [
        ""
      ],
      "execution_count": null,
      "outputs": []
    }
  ]
}