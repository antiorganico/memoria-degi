{
  "cells": [
    {
      "cell_type": "markdown",
      "metadata": {
        "colab_type": "text",
        "id": "view-in-github"
      },
      "source": [
        "<a href=\"https://colab.research.google.com/github/antiorganico/memoria-degi/blob/main/independencia.ipynb\" target=\"_parent\"><img src=\"https://colab.research.google.com/assets/colab-badge.svg\" alt=\"Open In Colab\"/></a>"
      ]
    },
    {
      "cell_type": "markdown",
      "metadata": {},
      "source": [
        "# Evolución en los pasos del Plan Paso a Paso para la comuna de Independencia"
      ]
    },
    {
      "cell_type": "markdown",
      "metadata": {},
      "source": [
        "## 1. Importar librerías y datos"
      ]
    },
    {
      "cell_type": "code",
      "execution_count": 1,
      "metadata": {
        "id": "GoKLWoghZr57"
      },
      "outputs": [],
      "source": [
        "import pandas as pd\n",
        "import plotly.express as px\n",
        "import plotly.graph_objects as go\n",
        "df = pd.read_csv('https://raw.githubusercontent.com/MinCiencia/Datos-COVID19/master/output/producto74/paso_a_paso_std.csv')\n",
        "df_ind = df[df['comuna_residencia'] == 'Independencia']"
      ]
    },
    {
      "cell_type": "code",
      "execution_count": 58,
      "metadata": {
        "id": "kBYa26-ZZ2b1"
      },
      "outputs": [
        {
          "data": {
            "text/html": [
              "<div>\n",
              "<style scoped>\n",
              "    .dataframe tbody tr th:only-of-type {\n",
              "        vertical-align: middle;\n",
              "    }\n",
              "\n",
              "    .dataframe tbody tr th {\n",
              "        vertical-align: top;\n",
              "    }\n",
              "\n",
              "    .dataframe thead th {\n",
              "        text-align: right;\n",
              "    }\n",
              "</style>\n",
              "<table border=\"1\" class=\"dataframe\">\n",
              "  <thead>\n",
              "    <tr style=\"text-align: right;\">\n",
              "      <th></th>\n",
              "      <th>codigo_region</th>\n",
              "      <th>region_residencia</th>\n",
              "      <th>codigo_comuna</th>\n",
              "      <th>comuna_residencia</th>\n",
              "      <th>zona</th>\n",
              "      <th>Fecha</th>\n",
              "      <th>Paso</th>\n",
              "    </tr>\n",
              "  </thead>\n",
              "  <tbody>\n",
              "    <tr>\n",
              "      <th>100</th>\n",
              "      <td>13</td>\n",
              "      <td>Metropolitana</td>\n",
              "      <td>13108</td>\n",
              "      <td>Independencia</td>\n",
              "      <td>Total</td>\n",
              "      <td>2020-07-28</td>\n",
              "      <td>1</td>\n",
              "    </tr>\n",
              "    <tr>\n",
              "      <th>487</th>\n",
              "      <td>13</td>\n",
              "      <td>Metropolitana</td>\n",
              "      <td>13108</td>\n",
              "      <td>Independencia</td>\n",
              "      <td>Total</td>\n",
              "      <td>2020-07-29</td>\n",
              "      <td>1</td>\n",
              "    </tr>\n",
              "    <tr>\n",
              "      <th>874</th>\n",
              "      <td>13</td>\n",
              "      <td>Metropolitana</td>\n",
              "      <td>13108</td>\n",
              "      <td>Independencia</td>\n",
              "      <td>Total</td>\n",
              "      <td>2020-07-30</td>\n",
              "      <td>1</td>\n",
              "    </tr>\n",
              "    <tr>\n",
              "      <th>1261</th>\n",
              "      <td>13</td>\n",
              "      <td>Metropolitana</td>\n",
              "      <td>13108</td>\n",
              "      <td>Independencia</td>\n",
              "      <td>Total</td>\n",
              "      <td>2020-07-31</td>\n",
              "      <td>1</td>\n",
              "    </tr>\n",
              "    <tr>\n",
              "      <th>1648</th>\n",
              "      <td>13</td>\n",
              "      <td>Metropolitana</td>\n",
              "      <td>13108</td>\n",
              "      <td>Independencia</td>\n",
              "      <td>Total</td>\n",
              "      <td>2020-08-01</td>\n",
              "      <td>1</td>\n",
              "    </tr>\n",
              "    <tr>\n",
              "      <th>...</th>\n",
              "      <td>...</td>\n",
              "      <td>...</td>\n",
              "      <td>...</td>\n",
              "      <td>...</td>\n",
              "      <td>...</td>\n",
              "      <td>...</td>\n",
              "      <td>...</td>\n",
              "    </tr>\n",
              "    <tr>\n",
              "      <th>173476</th>\n",
              "      <td>13</td>\n",
              "      <td>Metropolitana</td>\n",
              "      <td>13108</td>\n",
              "      <td>Independencia</td>\n",
              "      <td>Total</td>\n",
              "      <td>2021-10-19</td>\n",
              "      <td>4</td>\n",
              "    </tr>\n",
              "    <tr>\n",
              "      <th>173863</th>\n",
              "      <td>13</td>\n",
              "      <td>Metropolitana</td>\n",
              "      <td>13108</td>\n",
              "      <td>Independencia</td>\n",
              "      <td>Total</td>\n",
              "      <td>2021-10-20</td>\n",
              "      <td>4</td>\n",
              "    </tr>\n",
              "    <tr>\n",
              "      <th>174250</th>\n",
              "      <td>13</td>\n",
              "      <td>Metropolitana</td>\n",
              "      <td>13108</td>\n",
              "      <td>Independencia</td>\n",
              "      <td>Total</td>\n",
              "      <td>2021-10-21</td>\n",
              "      <td>4</td>\n",
              "    </tr>\n",
              "    <tr>\n",
              "      <th>174637</th>\n",
              "      <td>13</td>\n",
              "      <td>Metropolitana</td>\n",
              "      <td>13108</td>\n",
              "      <td>Independencia</td>\n",
              "      <td>Total</td>\n",
              "      <td>2021-10-22</td>\n",
              "      <td>4</td>\n",
              "    </tr>\n",
              "    <tr>\n",
              "      <th>175024</th>\n",
              "      <td>13</td>\n",
              "      <td>Metropolitana</td>\n",
              "      <td>13108</td>\n",
              "      <td>Independencia</td>\n",
              "      <td>Total</td>\n",
              "      <td>2021-10-23</td>\n",
              "      <td>4</td>\n",
              "    </tr>\n",
              "  </tbody>\n",
              "</table>\n",
              "<p>453 rows × 7 columns</p>\n",
              "</div>"
            ],
            "text/plain": [
              "        codigo_region region_residencia  codigo_comuna comuna_residencia  \\\n",
              "100                13     Metropolitana          13108     Independencia   \n",
              "487                13     Metropolitana          13108     Independencia   \n",
              "874                13     Metropolitana          13108     Independencia   \n",
              "1261               13     Metropolitana          13108     Independencia   \n",
              "1648               13     Metropolitana          13108     Independencia   \n",
              "...               ...               ...            ...               ...   \n",
              "173476             13     Metropolitana          13108     Independencia   \n",
              "173863             13     Metropolitana          13108     Independencia   \n",
              "174250             13     Metropolitana          13108     Independencia   \n",
              "174637             13     Metropolitana          13108     Independencia   \n",
              "175024             13     Metropolitana          13108     Independencia   \n",
              "\n",
              "         zona       Fecha  Paso  \n",
              "100     Total  2020-07-28     1  \n",
              "487     Total  2020-07-29     1  \n",
              "874     Total  2020-07-30     1  \n",
              "1261    Total  2020-07-31     1  \n",
              "1648    Total  2020-08-01     1  \n",
              "...       ...         ...   ...  \n",
              "173476  Total  2021-10-19     4  \n",
              "173863  Total  2021-10-20     4  \n",
              "174250  Total  2021-10-21     4  \n",
              "174637  Total  2021-10-22     4  \n",
              "175024  Total  2021-10-23     4  \n",
              "\n",
              "[453 rows x 7 columns]"
            ]
          },
          "execution_count": 58,
          "metadata": {},
          "output_type": "execute_result"
        }
      ],
      "source": [
        "df_ind"
      ]
    },
    {
      "cell_type": "markdown",
      "metadata": {},
      "source": [
        "## 2. Preparación de los datos"
      ]
    },
    {
      "cell_type": "markdown",
      "metadata": {},
      "source": [
        "Preparar los datos importantes:"
      ]
    },
    {
      "cell_type": "code",
      "execution_count": 5,
      "metadata": {
        "id": "1Xa7U38RaGx6"
      },
      "outputs": [],
      "source": [
        "df_ind2 = df_ind[['Fecha', 'Paso']] # Mantener exclusivamente las columnas relevantes\n",
        "df_ind2 = df_ind2[df_ind2['Fecha'] > '2020-12-31'] # Incluír solo el año 2021"
      ]
    },
    {
      "cell_type": "markdown",
      "metadata": {},
      "source": [
        "Obtener exactamente cuándo hubo un cambio de fase:"
      ]
    },
    {
      "cell_type": "code",
      "execution_count": 60,
      "metadata": {
        "id": "115aUW5jeT1Y"
      },
      "outputs": [
        {
          "data": {
            "text/html": [
              "<div>\n",
              "<style scoped>\n",
              "    .dataframe tbody tr th:only-of-type {\n",
              "        vertical-align: middle;\n",
              "    }\n",
              "\n",
              "    .dataframe tbody tr th {\n",
              "        vertical-align: top;\n",
              "    }\n",
              "\n",
              "    .dataframe thead th {\n",
              "        text-align: right;\n",
              "    }\n",
              "</style>\n",
              "<table border=\"1\" class=\"dataframe\">\n",
              "  <thead>\n",
              "    <tr style=\"text-align: right;\">\n",
              "      <th></th>\n",
              "      <th>Fecha</th>\n",
              "      <th>Paso</th>\n",
              "    </tr>\n",
              "  </thead>\n",
              "  <tbody>\n",
              "    <tr>\n",
              "      <th>0</th>\n",
              "      <td>2021-01-01</td>\n",
              "      <td>2</td>\n",
              "    </tr>\n",
              "    <tr>\n",
              "      <th>1</th>\n",
              "      <td>2021-02-08</td>\n",
              "      <td>3</td>\n",
              "    </tr>\n",
              "    <tr>\n",
              "      <th>2</th>\n",
              "      <td>2021-03-06</td>\n",
              "      <td>2</td>\n",
              "    </tr>\n",
              "    <tr>\n",
              "      <th>3</th>\n",
              "      <td>2021-03-25</td>\n",
              "      <td>1</td>\n",
              "    </tr>\n",
              "    <tr>\n",
              "      <th>4</th>\n",
              "      <td>2021-04-29</td>\n",
              "      <td>2</td>\n",
              "    </tr>\n",
              "    <tr>\n",
              "      <th>5</th>\n",
              "      <td>2021-06-05</td>\n",
              "      <td>1</td>\n",
              "    </tr>\n",
              "    <tr>\n",
              "      <th>6</th>\n",
              "      <td>2021-07-01</td>\n",
              "      <td>2</td>\n",
              "    </tr>\n",
              "    <tr>\n",
              "      <th>7</th>\n",
              "      <td>2021-07-19</td>\n",
              "      <td>3</td>\n",
              "    </tr>\n",
              "    <tr>\n",
              "      <th>8</th>\n",
              "      <td>2021-08-28</td>\n",
              "      <td>4</td>\n",
              "    </tr>\n",
              "  </tbody>\n",
              "</table>\n",
              "</div>"
            ],
            "text/plain": [
              "        Fecha  Paso\n",
              "0  2021-01-01     2\n",
              "1  2021-02-08     3\n",
              "2  2021-03-06     2\n",
              "3  2021-03-25     1\n",
              "4  2021-04-29     2\n",
              "5  2021-06-05     1\n",
              "6  2021-07-01     2\n",
              "7  2021-07-19     3\n",
              "8  2021-08-28     4"
            ]
          },
          "execution_count": 60,
          "metadata": {},
          "output_type": "execute_result"
        }
      ],
      "source": [
        "fechas = []\n",
        "previous = 0\n",
        "for fecha, fase in df_ind2.values:\n",
        "    if fase != previous:\n",
        "        previous = fase\n",
        "        fechas.append([fecha, fase])\n",
        "df_fechas = pd.DataFrame(fechas, columns=[\"Fecha\", \"Paso\"])\n",
        "df_fechas"
      ]
    },
    {
      "cell_type": "markdown",
      "metadata": {},
      "source": [
        "## 3. Gráfico"
      ]
    },
    {
      "cell_type": "markdown",
      "metadata": {},
      "source": [
        "El siguiente gráfico es de Plotly y puede requerir ser ejecutado de forma local o en un ambiente que lo soporte (no GitHub)."
      ]
    },
    {
      "cell_type": "code",
      "execution_count": 87,
      "metadata": {},
      "outputs": [
        {
          "data": {
            "application/vnd.plotly.v1+json": {
              "config": {
                "plotlyServerURL": "https://plot.ly"
              },
              "data": [
                {
                  "line": {
                    "shape": "hv"
                  },
                  "showlegend": false,
                  "type": "scatter",
                  "x": [
                    "2021-01-01",
                    "2021-01-02",
                    "2021-01-03",
                    "2021-01-04",
                    "2021-01-05",
                    "2021-01-06",
                    "2021-01-07",
                    "2021-01-08",
                    "2021-01-09",
                    "2021-01-10",
                    "2021-01-11",
                    "2021-01-12",
                    "2021-01-13",
                    "2021-01-14",
                    "2021-01-15",
                    "2021-01-16",
                    "2021-01-17",
                    "2021-01-18",
                    "2021-01-19",
                    "2021-01-20",
                    "2021-01-21",
                    "2021-01-22",
                    "2021-01-23",
                    "2021-01-24",
                    "2021-01-25",
                    "2021-01-26",
                    "2021-01-27",
                    "2021-01-28",
                    "2021-01-29",
                    "2021-01-30",
                    "2021-01-31",
                    "2021-02-01",
                    "2021-02-02",
                    "2021-02-03",
                    "2021-02-04",
                    "2021-02-05",
                    "2021-02-06",
                    "2021-02-07",
                    "2021-02-08",
                    "2021-02-09",
                    "2021-02-10",
                    "2021-02-11",
                    "2021-02-12",
                    "2021-02-13",
                    "2021-02-14",
                    "2021-02-15",
                    "2021-02-16",
                    "2021-02-17",
                    "2021-02-18",
                    "2021-02-19",
                    "2021-02-20",
                    "2021-02-21",
                    "2021-02-22",
                    "2021-02-23",
                    "2021-02-24",
                    "2021-02-25",
                    "2021-02-26",
                    "2021-02-27",
                    "2021-02-28",
                    "2021-03-01",
                    "2021-03-02",
                    "2021-03-03",
                    "2021-03-04",
                    "2021-03-05",
                    "2021-03-06",
                    "2021-03-07",
                    "2021-03-08",
                    "2021-03-09",
                    "2021-03-10",
                    "2021-03-11",
                    "2021-03-12",
                    "2021-03-13",
                    "2021-03-14",
                    "2021-03-15",
                    "2021-03-16",
                    "2021-03-17",
                    "2021-03-18",
                    "2021-03-19",
                    "2021-03-20",
                    "2021-03-21",
                    "2021-03-22",
                    "2021-03-23",
                    "2021-03-24",
                    "2021-03-25",
                    "2021-03-26",
                    "2021-03-27",
                    "2021-03-28",
                    "2021-03-29",
                    "2021-03-30",
                    "2021-03-31",
                    "2021-04-01",
                    "2021-04-02",
                    "2021-04-03",
                    "2021-04-04",
                    "2021-04-05",
                    "2021-04-06",
                    "2021-04-07",
                    "2021-04-08",
                    "2021-04-09",
                    "2021-04-10",
                    "2021-04-11",
                    "2021-04-12",
                    "2021-04-13",
                    "2021-04-14",
                    "2021-04-15",
                    "2021-04-16",
                    "2021-04-17",
                    "2021-04-18",
                    "2021-04-19",
                    "2021-04-20",
                    "2021-04-21",
                    "2021-04-22",
                    "2021-04-23",
                    "2021-04-24",
                    "2021-04-25",
                    "2021-04-26",
                    "2021-04-27",
                    "2021-04-28",
                    "2021-04-29",
                    "2021-04-30",
                    "2021-05-01",
                    "2021-05-02",
                    "2021-05-03",
                    "2021-05-04",
                    "2021-05-05",
                    "2021-05-06",
                    "2021-05-07",
                    "2021-05-08",
                    "2021-05-09",
                    "2021-05-10",
                    "2021-05-11",
                    "2021-05-12",
                    "2021-05-13",
                    "2021-05-14",
                    "2021-05-15",
                    "2021-05-16",
                    "2021-05-17",
                    "2021-05-18",
                    "2021-05-19",
                    "2021-05-20",
                    "2021-05-21",
                    "2021-05-22",
                    "2021-05-23",
                    "2021-05-24",
                    "2021-05-25",
                    "2021-05-26",
                    "2021-05-27",
                    "2021-05-28",
                    "2021-05-29",
                    "2021-05-30",
                    "2021-05-31",
                    "2021-06-01",
                    "2021-06-02",
                    "2021-06-03",
                    "2021-06-04",
                    "2021-06-05",
                    "2021-06-06",
                    "2021-06-07",
                    "2021-06-08",
                    "2021-06-09",
                    "2021-06-10",
                    "2021-06-11",
                    "2021-06-12",
                    "2021-06-13",
                    "2021-06-14",
                    "2021-06-15",
                    "2021-06-16",
                    "2021-06-17",
                    "2021-06-18",
                    "2021-06-19",
                    "2021-06-20",
                    "2021-06-21",
                    "2021-06-22",
                    "2021-06-23",
                    "2021-06-24",
                    "2021-06-25",
                    "2021-06-26",
                    "2021-06-27",
                    "2021-06-28",
                    "2021-06-29",
                    "2021-06-30",
                    "2021-07-01",
                    "2021-07-02",
                    "2021-07-03",
                    "2021-07-04",
                    "2021-07-05",
                    "2021-07-06",
                    "2021-07-07",
                    "2021-07-08",
                    "2021-07-09",
                    "2021-07-10",
                    "2021-07-11",
                    "2021-07-12",
                    "2021-07-13",
                    "2021-07-14",
                    "2021-07-15",
                    "2021-07-16",
                    "2021-07-17",
                    "2021-07-18",
                    "2021-07-19",
                    "2021-07-20",
                    "2021-07-21",
                    "2021-07-22",
                    "2021-07-23",
                    "2021-07-24",
                    "2021-07-25",
                    "2021-07-26",
                    "2021-07-27",
                    "2021-07-28",
                    "2021-07-29",
                    "2021-07-30",
                    "2021-07-31",
                    "2021-08-01",
                    "2021-08-02",
                    "2021-08-03",
                    "2021-08-04",
                    "2021-08-05",
                    "2021-08-06",
                    "2021-08-07",
                    "2021-08-08",
                    "2021-08-09",
                    "2021-08-10",
                    "2021-08-11",
                    "2021-08-12",
                    "2021-08-13",
                    "2021-08-14",
                    "2021-08-15",
                    "2021-08-16",
                    "2021-08-17",
                    "2021-08-18",
                    "2021-08-19",
                    "2021-08-20",
                    "2021-08-21",
                    "2021-08-22",
                    "2021-08-23",
                    "2021-08-24",
                    "2021-08-25",
                    "2021-08-26",
                    "2021-08-27",
                    "2021-08-28",
                    "2021-08-29",
                    "2021-08-30",
                    "2021-08-31",
                    "2021-09-01",
                    "2021-09-02",
                    "2021-09-03",
                    "2021-09-04",
                    "2021-09-05",
                    "2021-09-06",
                    "2021-09-07",
                    "2021-09-08",
                    "2021-09-09",
                    "2021-09-10",
                    "2021-09-11",
                    "2021-09-12",
                    "2021-09-13",
                    "2021-09-14",
                    "2021-09-15",
                    "2021-09-16",
                    "2021-09-17",
                    "2021-09-18",
                    "2021-09-19",
                    "2021-09-20",
                    "2021-09-21",
                    "2021-09-22",
                    "2021-09-23",
                    "2021-09-24",
                    "2021-09-25",
                    "2021-09-26",
                    "2021-09-27",
                    "2021-09-28",
                    "2021-09-29",
                    "2021-09-30",
                    "2021-10-01",
                    "2021-10-02",
                    "2021-10-03",
                    "2021-10-04",
                    "2021-10-05",
                    "2021-10-06",
                    "2021-10-07",
                    "2021-10-08",
                    "2021-10-09",
                    "2021-10-10",
                    "2021-10-11",
                    "2021-10-12",
                    "2021-10-13",
                    "2021-10-14",
                    "2021-10-15",
                    "2021-10-16",
                    "2021-10-17",
                    "2021-10-18",
                    "2021-10-19",
                    "2021-10-20",
                    "2021-10-21",
                    "2021-10-22",
                    "2021-10-23"
                  ],
                  "y": [
                    2,
                    2,
                    2,
                    2,
                    2,
                    2,
                    2,
                    2,
                    2,
                    2,
                    2,
                    2,
                    2,
                    2,
                    2,
                    2,
                    2,
                    2,
                    2,
                    2,
                    2,
                    2,
                    2,
                    2,
                    2,
                    2,
                    2,
                    2,
                    2,
                    2,
                    2,
                    2,
                    2,
                    2,
                    2,
                    2,
                    2,
                    2,
                    3,
                    3,
                    3,
                    3,
                    3,
                    3,
                    3,
                    3,
                    3,
                    3,
                    3,
                    3,
                    3,
                    3,
                    3,
                    3,
                    3,
                    3,
                    3,
                    3,
                    3,
                    3,
                    3,
                    3,
                    3,
                    3,
                    2,
                    2,
                    2,
                    2,
                    2,
                    2,
                    2,
                    2,
                    2,
                    2,
                    2,
                    2,
                    2,
                    2,
                    2,
                    2,
                    2,
                    2,
                    2,
                    1,
                    1,
                    1,
                    1,
                    1,
                    1,
                    1,
                    1,
                    1,
                    1,
                    1,
                    1,
                    1,
                    1,
                    1,
                    1,
                    1,
                    1,
                    1,
                    1,
                    1,
                    1,
                    1,
                    1,
                    1,
                    1,
                    1,
                    1,
                    1,
                    1,
                    1,
                    1,
                    1,
                    1,
                    1,
                    2,
                    2,
                    2,
                    2,
                    2,
                    2,
                    2,
                    2,
                    2,
                    2,
                    2,
                    2,
                    2,
                    2,
                    2,
                    2,
                    2,
                    2,
                    2,
                    2,
                    2,
                    2,
                    2,
                    2,
                    2,
                    2,
                    2,
                    2,
                    2,
                    2,
                    2,
                    2,
                    2,
                    2,
                    2,
                    2,
                    2,
                    1,
                    1,
                    1,
                    1,
                    1,
                    1,
                    1,
                    1,
                    1,
                    1,
                    1,
                    1,
                    1,
                    1,
                    1,
                    1,
                    1,
                    1,
                    1,
                    1,
                    1,
                    1,
                    1,
                    1,
                    1,
                    1,
                    2,
                    2,
                    2,
                    2,
                    2,
                    2,
                    2,
                    2,
                    2,
                    2,
                    2,
                    2,
                    2,
                    2,
                    2,
                    2,
                    2,
                    2,
                    3,
                    3,
                    3,
                    3,
                    3,
                    3,
                    3,
                    3,
                    3,
                    3,
                    3,
                    3,
                    3,
                    3,
                    3,
                    3,
                    3,
                    3,
                    3,
                    3,
                    3,
                    3,
                    3,
                    3,
                    3,
                    3,
                    3,
                    3,
                    3,
                    3,
                    3,
                    3,
                    3,
                    3,
                    3,
                    3,
                    3,
                    3,
                    3,
                    3,
                    4,
                    4,
                    4,
                    4,
                    4,
                    4,
                    4,
                    4,
                    4,
                    4,
                    4,
                    4,
                    4,
                    4,
                    4,
                    4,
                    4,
                    4,
                    4,
                    4,
                    4,
                    4,
                    4,
                    4,
                    4,
                    4,
                    4,
                    4,
                    4,
                    4,
                    4,
                    4,
                    4,
                    4,
                    4,
                    4,
                    4,
                    4,
                    4,
                    4,
                    4,
                    4,
                    4,
                    4,
                    4,
                    4,
                    4,
                    4,
                    4,
                    4,
                    4,
                    4,
                    4,
                    4,
                    4,
                    4,
                    4
                  ]
                },
                {
                  "mode": "markers+text",
                  "name": "Cambio de paso",
                  "text": [
                    "2021-01-01",
                    "2021-02-08",
                    "2021-03-06",
                    "2021-03-25",
                    "2021-04-29",
                    "2021-06-05",
                    "2021-07-01",
                    "2021-07-19",
                    "2021-08-28"
                  ],
                  "textposition": "bottom right",
                  "type": "scatter",
                  "x": [
                    "2021-01-01",
                    "2021-02-08",
                    "2021-03-06",
                    "2021-03-25",
                    "2021-04-29",
                    "2021-06-05",
                    "2021-07-01",
                    "2021-07-19",
                    "2021-08-28"
                  ],
                  "y": [
                    2,
                    3,
                    2,
                    1,
                    2,
                    1,
                    2,
                    3,
                    4
                  ]
                }
              ],
              "layout": {
                "template": {
                  "data": {
                    "bar": [
                      {
                        "error_x": {
                          "color": "#2a3f5f"
                        },
                        "error_y": {
                          "color": "#2a3f5f"
                        },
                        "marker": {
                          "line": {
                            "color": "#E5ECF6",
                            "width": 0.5
                          }
                        },
                        "type": "bar"
                      }
                    ],
                    "barpolar": [
                      {
                        "marker": {
                          "line": {
                            "color": "#E5ECF6",
                            "width": 0.5
                          }
                        },
                        "type": "barpolar"
                      }
                    ],
                    "carpet": [
                      {
                        "aaxis": {
                          "endlinecolor": "#2a3f5f",
                          "gridcolor": "white",
                          "linecolor": "white",
                          "minorgridcolor": "white",
                          "startlinecolor": "#2a3f5f"
                        },
                        "baxis": {
                          "endlinecolor": "#2a3f5f",
                          "gridcolor": "white",
                          "linecolor": "white",
                          "minorgridcolor": "white",
                          "startlinecolor": "#2a3f5f"
                        },
                        "type": "carpet"
                      }
                    ],
                    "choropleth": [
                      {
                        "colorbar": {
                          "outlinewidth": 0,
                          "ticks": ""
                        },
                        "type": "choropleth"
                      }
                    ],
                    "contour": [
                      {
                        "colorbar": {
                          "outlinewidth": 0,
                          "ticks": ""
                        },
                        "colorscale": [
                          [
                            0,
                            "#0d0887"
                          ],
                          [
                            0.1111111111111111,
                            "#46039f"
                          ],
                          [
                            0.2222222222222222,
                            "#7201a8"
                          ],
                          [
                            0.3333333333333333,
                            "#9c179e"
                          ],
                          [
                            0.4444444444444444,
                            "#bd3786"
                          ],
                          [
                            0.5555555555555556,
                            "#d8576b"
                          ],
                          [
                            0.6666666666666666,
                            "#ed7953"
                          ],
                          [
                            0.7777777777777778,
                            "#fb9f3a"
                          ],
                          [
                            0.8888888888888888,
                            "#fdca26"
                          ],
                          [
                            1,
                            "#f0f921"
                          ]
                        ],
                        "type": "contour"
                      }
                    ],
                    "contourcarpet": [
                      {
                        "colorbar": {
                          "outlinewidth": 0,
                          "ticks": ""
                        },
                        "type": "contourcarpet"
                      }
                    ],
                    "heatmap": [
                      {
                        "colorbar": {
                          "outlinewidth": 0,
                          "ticks": ""
                        },
                        "colorscale": [
                          [
                            0,
                            "#0d0887"
                          ],
                          [
                            0.1111111111111111,
                            "#46039f"
                          ],
                          [
                            0.2222222222222222,
                            "#7201a8"
                          ],
                          [
                            0.3333333333333333,
                            "#9c179e"
                          ],
                          [
                            0.4444444444444444,
                            "#bd3786"
                          ],
                          [
                            0.5555555555555556,
                            "#d8576b"
                          ],
                          [
                            0.6666666666666666,
                            "#ed7953"
                          ],
                          [
                            0.7777777777777778,
                            "#fb9f3a"
                          ],
                          [
                            0.8888888888888888,
                            "#fdca26"
                          ],
                          [
                            1,
                            "#f0f921"
                          ]
                        ],
                        "type": "heatmap"
                      }
                    ],
                    "heatmapgl": [
                      {
                        "colorbar": {
                          "outlinewidth": 0,
                          "ticks": ""
                        },
                        "colorscale": [
                          [
                            0,
                            "#0d0887"
                          ],
                          [
                            0.1111111111111111,
                            "#46039f"
                          ],
                          [
                            0.2222222222222222,
                            "#7201a8"
                          ],
                          [
                            0.3333333333333333,
                            "#9c179e"
                          ],
                          [
                            0.4444444444444444,
                            "#bd3786"
                          ],
                          [
                            0.5555555555555556,
                            "#d8576b"
                          ],
                          [
                            0.6666666666666666,
                            "#ed7953"
                          ],
                          [
                            0.7777777777777778,
                            "#fb9f3a"
                          ],
                          [
                            0.8888888888888888,
                            "#fdca26"
                          ],
                          [
                            1,
                            "#f0f921"
                          ]
                        ],
                        "type": "heatmapgl"
                      }
                    ],
                    "histogram": [
                      {
                        "marker": {
                          "colorbar": {
                            "outlinewidth": 0,
                            "ticks": ""
                          }
                        },
                        "type": "histogram"
                      }
                    ],
                    "histogram2d": [
                      {
                        "colorbar": {
                          "outlinewidth": 0,
                          "ticks": ""
                        },
                        "colorscale": [
                          [
                            0,
                            "#0d0887"
                          ],
                          [
                            0.1111111111111111,
                            "#46039f"
                          ],
                          [
                            0.2222222222222222,
                            "#7201a8"
                          ],
                          [
                            0.3333333333333333,
                            "#9c179e"
                          ],
                          [
                            0.4444444444444444,
                            "#bd3786"
                          ],
                          [
                            0.5555555555555556,
                            "#d8576b"
                          ],
                          [
                            0.6666666666666666,
                            "#ed7953"
                          ],
                          [
                            0.7777777777777778,
                            "#fb9f3a"
                          ],
                          [
                            0.8888888888888888,
                            "#fdca26"
                          ],
                          [
                            1,
                            "#f0f921"
                          ]
                        ],
                        "type": "histogram2d"
                      }
                    ],
                    "histogram2dcontour": [
                      {
                        "colorbar": {
                          "outlinewidth": 0,
                          "ticks": ""
                        },
                        "colorscale": [
                          [
                            0,
                            "#0d0887"
                          ],
                          [
                            0.1111111111111111,
                            "#46039f"
                          ],
                          [
                            0.2222222222222222,
                            "#7201a8"
                          ],
                          [
                            0.3333333333333333,
                            "#9c179e"
                          ],
                          [
                            0.4444444444444444,
                            "#bd3786"
                          ],
                          [
                            0.5555555555555556,
                            "#d8576b"
                          ],
                          [
                            0.6666666666666666,
                            "#ed7953"
                          ],
                          [
                            0.7777777777777778,
                            "#fb9f3a"
                          ],
                          [
                            0.8888888888888888,
                            "#fdca26"
                          ],
                          [
                            1,
                            "#f0f921"
                          ]
                        ],
                        "type": "histogram2dcontour"
                      }
                    ],
                    "mesh3d": [
                      {
                        "colorbar": {
                          "outlinewidth": 0,
                          "ticks": ""
                        },
                        "type": "mesh3d"
                      }
                    ],
                    "parcoords": [
                      {
                        "line": {
                          "colorbar": {
                            "outlinewidth": 0,
                            "ticks": ""
                          }
                        },
                        "type": "parcoords"
                      }
                    ],
                    "pie": [
                      {
                        "automargin": true,
                        "type": "pie"
                      }
                    ],
                    "scatter": [
                      {
                        "marker": {
                          "colorbar": {
                            "outlinewidth": 0,
                            "ticks": ""
                          }
                        },
                        "type": "scatter"
                      }
                    ],
                    "scatter3d": [
                      {
                        "line": {
                          "colorbar": {
                            "outlinewidth": 0,
                            "ticks": ""
                          }
                        },
                        "marker": {
                          "colorbar": {
                            "outlinewidth": 0,
                            "ticks": ""
                          }
                        },
                        "type": "scatter3d"
                      }
                    ],
                    "scattercarpet": [
                      {
                        "marker": {
                          "colorbar": {
                            "outlinewidth": 0,
                            "ticks": ""
                          }
                        },
                        "type": "scattercarpet"
                      }
                    ],
                    "scattergeo": [
                      {
                        "marker": {
                          "colorbar": {
                            "outlinewidth": 0,
                            "ticks": ""
                          }
                        },
                        "type": "scattergeo"
                      }
                    ],
                    "scattergl": [
                      {
                        "marker": {
                          "colorbar": {
                            "outlinewidth": 0,
                            "ticks": ""
                          }
                        },
                        "type": "scattergl"
                      }
                    ],
                    "scattermapbox": [
                      {
                        "marker": {
                          "colorbar": {
                            "outlinewidth": 0,
                            "ticks": ""
                          }
                        },
                        "type": "scattermapbox"
                      }
                    ],
                    "scatterpolar": [
                      {
                        "marker": {
                          "colorbar": {
                            "outlinewidth": 0,
                            "ticks": ""
                          }
                        },
                        "type": "scatterpolar"
                      }
                    ],
                    "scatterpolargl": [
                      {
                        "marker": {
                          "colorbar": {
                            "outlinewidth": 0,
                            "ticks": ""
                          }
                        },
                        "type": "scatterpolargl"
                      }
                    ],
                    "scatterternary": [
                      {
                        "marker": {
                          "colorbar": {
                            "outlinewidth": 0,
                            "ticks": ""
                          }
                        },
                        "type": "scatterternary"
                      }
                    ],
                    "surface": [
                      {
                        "colorbar": {
                          "outlinewidth": 0,
                          "ticks": ""
                        },
                        "colorscale": [
                          [
                            0,
                            "#0d0887"
                          ],
                          [
                            0.1111111111111111,
                            "#46039f"
                          ],
                          [
                            0.2222222222222222,
                            "#7201a8"
                          ],
                          [
                            0.3333333333333333,
                            "#9c179e"
                          ],
                          [
                            0.4444444444444444,
                            "#bd3786"
                          ],
                          [
                            0.5555555555555556,
                            "#d8576b"
                          ],
                          [
                            0.6666666666666666,
                            "#ed7953"
                          ],
                          [
                            0.7777777777777778,
                            "#fb9f3a"
                          ],
                          [
                            0.8888888888888888,
                            "#fdca26"
                          ],
                          [
                            1,
                            "#f0f921"
                          ]
                        ],
                        "type": "surface"
                      }
                    ],
                    "table": [
                      {
                        "cells": {
                          "fill": {
                            "color": "#EBF0F8"
                          },
                          "line": {
                            "color": "white"
                          }
                        },
                        "header": {
                          "fill": {
                            "color": "#C8D4E3"
                          },
                          "line": {
                            "color": "white"
                          }
                        },
                        "type": "table"
                      }
                    ]
                  },
                  "layout": {
                    "annotationdefaults": {
                      "arrowcolor": "#2a3f5f",
                      "arrowhead": 0,
                      "arrowwidth": 1
                    },
                    "autotypenumbers": "strict",
                    "coloraxis": {
                      "colorbar": {
                        "outlinewidth": 0,
                        "ticks": ""
                      }
                    },
                    "colorscale": {
                      "diverging": [
                        [
                          0,
                          "#8e0152"
                        ],
                        [
                          0.1,
                          "#c51b7d"
                        ],
                        [
                          0.2,
                          "#de77ae"
                        ],
                        [
                          0.3,
                          "#f1b6da"
                        ],
                        [
                          0.4,
                          "#fde0ef"
                        ],
                        [
                          0.5,
                          "#f7f7f7"
                        ],
                        [
                          0.6,
                          "#e6f5d0"
                        ],
                        [
                          0.7,
                          "#b8e186"
                        ],
                        [
                          0.8,
                          "#7fbc41"
                        ],
                        [
                          0.9,
                          "#4d9221"
                        ],
                        [
                          1,
                          "#276419"
                        ]
                      ],
                      "sequential": [
                        [
                          0,
                          "#0d0887"
                        ],
                        [
                          0.1111111111111111,
                          "#46039f"
                        ],
                        [
                          0.2222222222222222,
                          "#7201a8"
                        ],
                        [
                          0.3333333333333333,
                          "#9c179e"
                        ],
                        [
                          0.4444444444444444,
                          "#bd3786"
                        ],
                        [
                          0.5555555555555556,
                          "#d8576b"
                        ],
                        [
                          0.6666666666666666,
                          "#ed7953"
                        ],
                        [
                          0.7777777777777778,
                          "#fb9f3a"
                        ],
                        [
                          0.8888888888888888,
                          "#fdca26"
                        ],
                        [
                          1,
                          "#f0f921"
                        ]
                      ],
                      "sequentialminus": [
                        [
                          0,
                          "#0d0887"
                        ],
                        [
                          0.1111111111111111,
                          "#46039f"
                        ],
                        [
                          0.2222222222222222,
                          "#7201a8"
                        ],
                        [
                          0.3333333333333333,
                          "#9c179e"
                        ],
                        [
                          0.4444444444444444,
                          "#bd3786"
                        ],
                        [
                          0.5555555555555556,
                          "#d8576b"
                        ],
                        [
                          0.6666666666666666,
                          "#ed7953"
                        ],
                        [
                          0.7777777777777778,
                          "#fb9f3a"
                        ],
                        [
                          0.8888888888888888,
                          "#fdca26"
                        ],
                        [
                          1,
                          "#f0f921"
                        ]
                      ]
                    },
                    "colorway": [
                      "#636efa",
                      "#EF553B",
                      "#00cc96",
                      "#ab63fa",
                      "#FFA15A",
                      "#19d3f3",
                      "#FF6692",
                      "#B6E880",
                      "#FF97FF",
                      "#FECB52"
                    ],
                    "font": {
                      "color": "#2a3f5f"
                    },
                    "geo": {
                      "bgcolor": "white",
                      "lakecolor": "white",
                      "landcolor": "#E5ECF6",
                      "showlakes": true,
                      "showland": true,
                      "subunitcolor": "white"
                    },
                    "hoverlabel": {
                      "align": "left"
                    },
                    "hovermode": "closest",
                    "mapbox": {
                      "style": "light"
                    },
                    "paper_bgcolor": "white",
                    "plot_bgcolor": "#E5ECF6",
                    "polar": {
                      "angularaxis": {
                        "gridcolor": "white",
                        "linecolor": "white",
                        "ticks": ""
                      },
                      "bgcolor": "#E5ECF6",
                      "radialaxis": {
                        "gridcolor": "white",
                        "linecolor": "white",
                        "ticks": ""
                      }
                    },
                    "scene": {
                      "xaxis": {
                        "backgroundcolor": "#E5ECF6",
                        "gridcolor": "white",
                        "gridwidth": 2,
                        "linecolor": "white",
                        "showbackground": true,
                        "ticks": "",
                        "zerolinecolor": "white"
                      },
                      "yaxis": {
                        "backgroundcolor": "#E5ECF6",
                        "gridcolor": "white",
                        "gridwidth": 2,
                        "linecolor": "white",
                        "showbackground": true,
                        "ticks": "",
                        "zerolinecolor": "white"
                      },
                      "zaxis": {
                        "backgroundcolor": "#E5ECF6",
                        "gridcolor": "white",
                        "gridwidth": 2,
                        "linecolor": "white",
                        "showbackground": true,
                        "ticks": "",
                        "zerolinecolor": "white"
                      }
                    },
                    "shapedefaults": {
                      "line": {
                        "color": "#2a3f5f"
                      }
                    },
                    "ternary": {
                      "aaxis": {
                        "gridcolor": "white",
                        "linecolor": "white",
                        "ticks": ""
                      },
                      "baxis": {
                        "gridcolor": "white",
                        "linecolor": "white",
                        "ticks": ""
                      },
                      "bgcolor": "#E5ECF6",
                      "caxis": {
                        "gridcolor": "white",
                        "linecolor": "white",
                        "ticks": ""
                      }
                    },
                    "title": {
                      "x": 0.05
                    },
                    "xaxis": {
                      "automargin": true,
                      "gridcolor": "white",
                      "linecolor": "white",
                      "ticks": "",
                      "title": {
                        "standoff": 15
                      },
                      "zerolinecolor": "white",
                      "zerolinewidth": 2
                    },
                    "yaxis": {
                      "automargin": true,
                      "gridcolor": "white",
                      "linecolor": "white",
                      "ticks": "",
                      "title": {
                        "standoff": 15
                      },
                      "zerolinecolor": "white",
                      "zerolinewidth": 2
                    }
                  }
                },
                "title": {
                  "text": "Evolución de la comuna de Independencia a través del Plan Paso a Paso",
                  "x": 0.5,
                  "xanchor": "center"
                },
                "yaxis": {
                  "tickformat": ",d"
                }
              }
            }
          },
          "metadata": {},
          "output_type": "display_data"
        }
      ],
      "source": [
        "fig = go.Figure()\n",
        "fig.add_trace(go.Scatter(x=df_ind2['Fecha'], y=df_ind2['Paso'], line_shape='hv', showlegend=False))\n",
        "fig.add_trace(go.Scatter(x=df_fechas['Fecha'], y=df_fechas['Paso'], mode='markers+text', text=df_fechas['Fecha'], textposition=\"bottom right\", name=\"Cambio de paso\"))\n",
        "#fig.update_traces(textposition=\"bottom right\")\n",
        "fig.update_layout(title={'text':\"Evolución de la comuna de Independencia a través del Plan Paso a Paso\",'xanchor':'center', 'x':0.5},yaxis_tickformat=',d')\n",
        "fig.show()"
      ]
    },
    {
      "cell_type": "markdown",
      "metadata": {},
      "source": []
    }
  ],
  "metadata": {
    "colab": {
      "authorship_tag": "ABX9TyOIdmZ7VTZ61M1Pgf144ELh",
      "include_colab_link": true,
      "name": "independencia.ipynb",
      "provenance": []
    },
    "interpreter": {
      "hash": "1d76bb280da093bf7260b592363b449b8d54408228f36ce25dff58a9f746dd21"
    },
    "kernelspec": {
      "display_name": "Python 3.9.1 64-bit",
      "name": "python3"
    },
    "language_info": {
      "codemirror_mode": {
        "name": "ipython",
        "version": 3
      },
      "file_extension": ".py",
      "mimetype": "text/x-python",
      "name": "python",
      "nbconvert_exporter": "python",
      "pygments_lexer": "ipython3",
      "version": "3.9.1"
    }
  },
  "nbformat": 4,
  "nbformat_minor": 0
}
